{
 "cells": [
  {
   "cell_type": "markdown",
   "id": "37c8c36c-1423-425c-8479-7d7d8975ea65",
   "metadata": {},
   "source": [
    "# Método SIMPLEX"
   ]
  },
  {
   "cell_type": "code",
   "execution_count": 2,
   "id": "fee08ccd-da95-4777-aa55-2db3b7cf74db",
   "metadata": {},
   "outputs": [],
   "source": [
    "import numpy as np\n",
    "import sys"
   ]
  },
  {
   "cell_type": "markdown",
   "id": "48c25fb0-eac2-4046-920d-c30a7a9c3f74",
   "metadata": {},
   "source": [
    "### Função para printar a matriz"
   ]
  },
  {
   "cell_type": "code",
   "execution_count": 5,
   "id": "90e88339-f48c-4daf-a4c0-45956e71f2c8",
   "metadata": {},
   "outputs": [],
   "source": [
    "def print_matriz(matriz, qtd_linha, qtd_coluna):\n",
    "    for i in range(qtd_linha):\n",
    "        for j in range(qtd_coluna):\n",
    "            print(matriz[i][j], end=\" \")\n",
    "\n",
    "        print()"
   ]
  },
  {
   "cell_type": "markdown",
   "id": "cfd17464-63f7-4011-825d-944a9fd08e11",
   "metadata": {},
   "source": [
    "### Pegando quantidade de variáveis"
   ]
  },
  {
   "cell_type": "code",
   "execution_count": 8,
   "id": "cd749ded-ea48-4788-8596-72aad541af8c",
   "metadata": {},
   "outputs": [
    {
     "name": "stdin",
     "output_type": "stream",
     "text": [
      "Quantas variáveis possui a função objetivo? \n",
      " 3\n"
     ]
    }
   ],
   "source": [
    "qtd_var_obj = int(input(\"Quantas variáveis possui a função objetivo? \\n\"))"
   ]
  },
  {
   "cell_type": "code",
   "execution_count": 10,
   "id": "c7b39118-0d90-461d-8663-ffc8ef0b5833",
   "metadata": {},
   "outputs": [
    {
     "name": "stdin",
     "output_type": "stream",
     "text": [
      "Quantas restrições com desigualdade? \n",
      " 3\n"
     ]
    }
   ],
   "source": [
    "qtd_res_des = int(input(\"Quantas restrições com desigualdade? \\n\"))"
   ]
  },
  {
   "cell_type": "code",
   "execution_count": 12,
   "id": "52c3d0d2-25f4-43ef-b3d2-1ab3ad0e7ca6",
   "metadata": {},
   "outputs": [
    {
     "data": {
      "text/plain": [
       "array([4, 5, 6])"
      ]
     },
     "execution_count": 12,
     "metadata": {},
     "output_type": "execute_result"
    }
   ],
   "source": [
    "lista_var = []\n",
    "\n",
    "for i in range(qtd_var_obj+1, (qtd_var_obj + qtd_res_des)+1):\n",
    "    lista_var.append(i)\n",
    "\n",
    "lista_var = np.array(lista_var)\n",
    "\n",
    "lista_var"
   ]
  },
  {
   "cell_type": "markdown",
   "id": "395921a5-aa64-45d9-bb5c-ba862bd22246",
   "metadata": {},
   "source": [
    "### Pegando matriz"
   ]
  },
  {
   "cell_type": "code",
   "execution_count": 15,
   "id": "c1e63851-9e30-4b9a-80ac-97d066049938",
   "metadata": {
    "scrolled": true
   },
   "outputs": [
    {
     "name": "stdin",
     "output_type": "stream",
     "text": [
      "Digite uma linha (ou \"p\" para parar) \n",
      " 2 3 1 1 0 0 5\n",
      "Digite uma linha (ou \"p\" para parar) \n",
      " 4 2 2 0 1 0 11\n",
      "Digite uma linha (ou \"p\" para parar) \n",
      " 3 2 2 0 0 1 8\n",
      "Digite uma linha (ou \"p\" para parar) \n",
      " -5 -4 -3 0 0 0 0\n",
      "Digite uma linha (ou \"p\" para parar) \n",
      " p\n"
     ]
    }
   ],
   "source": [
    "mat = []\n",
    "\n",
    "while True:\n",
    "    linha = input(\"Digite uma linha (ou \\\"p\\\" para parar) \\n\")\n",
    "\n",
    "    if linha.lower() == \"p\": #condição de parada\n",
    "        break\n",
    "\n",
    "    linha = linha.split()\n",
    "    \n",
    "    try:\n",
    "        linha = [float(x) for x in linha] #cast para float\n",
    "    except ValueError:\n",
    "        print(\"Insira apenas números ou \\\"p\\\" para parar \\n\")\n",
    "        continue\n",
    "\n",
    "    mat.append(linha)"
   ]
  },
  {
   "cell_type": "code",
   "execution_count": 17,
   "id": "294b4480-4264-475a-91c9-485d7b59e0c0",
   "metadata": {},
   "outputs": [],
   "source": [
    "matriz = np.array(mat)"
   ]
  },
  {
   "cell_type": "code",
   "execution_count": 19,
   "id": "33815a04-ff37-4b8a-93a3-0f13c193651f",
   "metadata": {},
   "outputs": [
    {
     "data": {
      "text/plain": [
       "array([[ 2.,  3.,  1.,  1.,  0.,  0.,  5.],\n",
       "       [ 4.,  2.,  2.,  0.,  1.,  0., 11.],\n",
       "       [ 3.,  2.,  2.,  0.,  0.,  1.,  8.],\n",
       "       [-5., -4., -3.,  0.,  0.,  0.,  0.]])"
      ]
     },
     "execution_count": 19,
     "metadata": {},
     "output_type": "execute_result"
    }
   ],
   "source": [
    "matriz"
   ]
  },
  {
   "cell_type": "markdown",
   "id": "d9849a4d-92af-42f3-8ca7-c71bce2873f6",
   "metadata": {},
   "source": [
    "### Realizando cálculos"
   ]
  },
  {
   "cell_type": "code",
   "execution_count": 22,
   "id": "1f9d2fc3-6378-4948-86f1-eaa96f05134a",
   "metadata": {},
   "outputs": [
    {
     "data": {
      "text/plain": [
       "4"
      ]
     },
     "execution_count": 22,
     "metadata": {},
     "output_type": "execute_result"
    }
   ],
   "source": [
    "qtd_linha = len(matriz)\n",
    "qtd_linha"
   ]
  },
  {
   "cell_type": "code",
   "execution_count": 24,
   "id": "909e3db2-00a7-44eb-bc3c-0026197c37a1",
   "metadata": {},
   "outputs": [
    {
     "data": {
      "text/plain": [
       "7"
      ]
     },
     "execution_count": 24,
     "metadata": {},
     "output_type": "execute_result"
    }
   ],
   "source": [
    "qtd_coluna = len(matriz[0])\n",
    "\n",
    "qtd_coluna"
   ]
  },
  {
   "cell_type": "code",
   "execution_count": 26,
   "id": "fead1533-c2b3-439b-a88b-80d0f6d78fbf",
   "metadata": {},
   "outputs": [
    {
     "data": {
      "text/plain": [
       "array([-5., -4., -3.,  0.,  0.,  0.,  0.])"
      ]
     },
     "execution_count": 26,
     "metadata": {},
     "output_type": "execute_result"
    }
   ],
   "source": [
    "ultima_linha = matriz[qtd_linha-1]\n",
    "\n",
    "ultima_linha"
   ]
  },
  {
   "cell_type": "markdown",
   "id": "4e24b5c6-883f-4b06-9323-70775640b0fa",
   "metadata": {},
   "source": [
    "### Código para Maximização"
   ]
  },
  {
   "cell_type": "code",
   "execution_count": 29,
   "id": "1174279f-13fb-4260-a794-0124a5f180a8",
   "metadata": {},
   "outputs": [],
   "source": [
    "while len([*filter(lambda x: x < 0, ultima_linha)]) > 0:\n",
    "    menor = min(ultima_linha)\n",
    "    \n",
    "    for i in range(qtd_coluna): \n",
    "        if ultima_linha[i] == menor:\n",
    "            coluna_pivo = i\n",
    "    \n",
    "    aux_m = 2 * sys.maxsize + 1\n",
    "    linha_pivo = -1\n",
    "        \n",
    "    for i in range(qtd_linha-1):\n",
    "        e = matriz[i][coluna_pivo]\n",
    "        \n",
    "        if e != 0:\n",
    "            f = matriz[i][qtd_coluna-1] / e\n",
    "        \n",
    "            if f < aux_m:\n",
    "                aux_m = f\n",
    "                linha_pivo = i\n",
    "                    \n",
    "    lista_var[linha_pivo] = coluna_pivo + 1\n",
    "    \n",
    "    matriz[linha_pivo] = matriz[linha_pivo] / matriz[linha_pivo][coluna_pivo]\n",
    "    \n",
    "    for i in range(qtd_linha):\n",
    "        if i != linha_pivo:\n",
    "            matriz[i] = matriz[i] - (matriz[i][coluna_pivo] * matriz[linha_pivo])"
   ]
  },
  {
   "cell_type": "code",
   "execution_count": 31,
   "id": "c157f40e-a59b-4e90-b6b5-aada7cf20751",
   "metadata": {},
   "outputs": [
    {
     "name": "stdout",
     "output_type": "stream",
     "text": [
      "1.0 4.0 0.0 2.0 0.0 -1.0 2.0 \n",
      "0.0 -4.0 0.0 -2.0 1.0 0.0 1.0 \n",
      "0.0 -5.0 1.0 -3.0 0.0 2.0 1.0 \n",
      "0.0 1.0 0.0 1.0 0.0 1.0 13.0 \n"
     ]
    }
   ],
   "source": [
    "#print(lista_var)\n",
    "print_matriz(matriz, qtd_linha, qtd_coluna)"
   ]
  },
  {
   "cell_type": "code",
   "execution_count": 33,
   "id": "ec9db4c6-d16f-43db-b140-a287fcc80f06",
   "metadata": {},
   "outputs": [
    {
     "name": "stdout",
     "output_type": "stream",
     "text": [
      "x1 = 2.0\n",
      "x5 = 1.0\n",
      "x3 = 1.0\n",
      "\n",
      "z = 13.0\n"
     ]
    }
   ],
   "source": [
    "for i in range(len(lista_var)):\n",
    "    print(f\"x{lista_var[i]} = {matriz[i][qtd_coluna-1]}\")\n",
    "\n",
    "print()\n",
    "print(f\"z = {matriz[qtd_linha-1][qtd_coluna-1]}\")"
   ]
  },
  {
   "cell_type": "code",
   "execution_count": null,
   "id": "d2883044-337d-48ef-9faf-49103068c4ff",
   "metadata": {},
   "outputs": [],
   "source": []
  }
 ],
 "metadata": {
  "kernelspec": {
   "display_name": "Python 3 (ipykernel)",
   "language": "python",
   "name": "python3"
  },
  "language_info": {
   "codemirror_mode": {
    "name": "ipython",
    "version": 3
   },
   "file_extension": ".py",
   "mimetype": "text/x-python",
   "name": "python",
   "nbconvert_exporter": "python",
   "pygments_lexer": "ipython3",
   "version": "3.12.7"
  }
 },
 "nbformat": 4,
 "nbformat_minor": 5
}
